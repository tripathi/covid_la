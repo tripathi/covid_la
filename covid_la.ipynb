{
 "cells": [
  {
   "cell_type": "code",
   "execution_count": 1,
   "metadata": {},
   "outputs": [],
   "source": [
    "import numpy as np\n",
    "import matplotlib as mpl\n",
    "import matplotlib.pyplot as plt\n",
    "from mpl_toolkits.axes_grid1.axes_divider import make_axes_locatable\n",
    "import geopandas as gpd\n",
    "import pandas as pd\n",
    "import math\n",
    "import calendar"
   ]
  },
  {
   "cell_type": "code",
   "execution_count": 2,
   "metadata": {},
   "outputs": [],
   "source": [
    "#Read in LA neighborhood map\n",
    "#Retrieved from http://boundaries.latimes.com/set/la-county-neighborhoods-current/\n",
    "nbd= gpd.read_file(\"data/la-county-neighborhoods-current_nocatalina.geojson\")\n",
    "#nbd['name'][nbd.name.str.contains('Avalon')] "
   ]
  },
  {
   "cell_type": "code",
   "execution_count": 4,
   "metadata": {
    "scrolled": true
   },
   "outputs": [
    {
     "data": {
      "text/html": [
       "<div>\n",
       "<style scoped>\n",
       "    .dataframe tbody tr th:only-of-type {\n",
       "        vertical-align: middle;\n",
       "    }\n",
       "\n",
       "    .dataframe tbody tr th {\n",
       "        vertical-align: top;\n",
       "    }\n",
       "\n",
       "    .dataframe thead th {\n",
       "        text-align: right;\n",
       "    }\n",
       "</style>\n",
       "<table border=\"1\" class=\"dataframe\">\n",
       "  <thead>\n",
       "    <tr style=\"text-align: right;\">\n",
       "      <th></th>\n",
       "      <th>kind</th>\n",
       "      <th>external_id</th>\n",
       "      <th>name</th>\n",
       "      <th>slug</th>\n",
       "      <th>set</th>\n",
       "      <th>metadata</th>\n",
       "      <th>resource_uri</th>\n",
       "      <th>geometry</th>\n",
       "    </tr>\n",
       "  </thead>\n",
       "  <tbody>\n",
       "    <tr>\n",
       "      <th>0</th>\n",
       "      <td>L.A. County Neighborhood (Current)</td>\n",
       "      <td>acton</td>\n",
       "      <td>Acton</td>\n",
       "      <td>acton-la-county-neighborhood-current</td>\n",
       "      <td>/1.0/boundary-set/la-county-neighborhoods-curr...</td>\n",
       "      <td>{'sqmi': 39.3391089485, 'type': 'unincorporate...</td>\n",
       "      <td>/1.0/boundary/acton-la-county-neighborhood-cur...</td>\n",
       "      <td>MULTIPOLYGON (((-118.20262 34.53899, -118.1894...</td>\n",
       "    </tr>\n",
       "    <tr>\n",
       "      <th>1</th>\n",
       "      <td>L.A. County Neighborhood (Current)</td>\n",
       "      <td>adams-normandie</td>\n",
       "      <td>Adams-Normandie</td>\n",
       "      <td>adams-normandie-la-county-neighborhood-current</td>\n",
       "      <td>/1.0/boundary-set/la-county-neighborhoods-curr...</td>\n",
       "      <td>{'sqmi': 0.805350187789, 'type': 'segment-of-a...</td>\n",
       "      <td>/1.0/boundary/adams-normandie-la-county-neighb...</td>\n",
       "      <td>MULTIPOLYGON (((-118.30901 34.03741, -118.3004...</td>\n",
       "    </tr>\n",
       "    <tr>\n",
       "      <th>2</th>\n",
       "      <td>L.A. County Neighborhood (Current)</td>\n",
       "      <td>agoura-hills</td>\n",
       "      <td>Agoura Hills</td>\n",
       "      <td>agoura-hills-la-county-neighborhood-current</td>\n",
       "      <td>/1.0/boundary-set/la-county-neighborhoods-curr...</td>\n",
       "      <td>{'sqmi': 8.14676029818, 'type': 'standalone-ci...</td>\n",
       "      <td>/1.0/boundary/agoura-hills-la-county-neighborh...</td>\n",
       "      <td>MULTIPOLYGON (((-118.76193 34.16820, -118.7263...</td>\n",
       "    </tr>\n",
       "    <tr>\n",
       "      <th>3</th>\n",
       "      <td>L.A. County Neighborhood (Current)</td>\n",
       "      <td>agua-dulce</td>\n",
       "      <td>Agua Dulce</td>\n",
       "      <td>agua-dulce-la-county-neighborhood-current</td>\n",
       "      <td>/1.0/boundary-set/la-county-neighborhoods-curr...</td>\n",
       "      <td>{'sqmi': 31.4626319451, 'type': 'unincorporate...</td>\n",
       "      <td>/1.0/boundary/agua-dulce-la-county-neighborhoo...</td>\n",
       "      <td>MULTIPOLYGON (((-118.25468 34.55830, -118.2555...</td>\n",
       "    </tr>\n",
       "    <tr>\n",
       "      <th>4</th>\n",
       "      <td>L.A. County Neighborhood (Current)</td>\n",
       "      <td>alhambra</td>\n",
       "      <td>Alhambra</td>\n",
       "      <td>alhambra-la-county-neighborhood-current</td>\n",
       "      <td>/1.0/boundary-set/la-county-neighborhoods-curr...</td>\n",
       "      <td>{'sqmi': 7.62381430605, 'type': 'standalone-ci...</td>\n",
       "      <td>/1.0/boundary/alhambra-la-county-neighborhood-...</td>\n",
       "      <td>MULTIPOLYGON (((-118.12175 34.10504, -118.1168...</td>\n",
       "    </tr>\n",
       "  </tbody>\n",
       "</table>\n",
       "</div>"
      ],
      "text/plain": [
       "                                 kind      external_id             name  \\\n",
       "0  L.A. County Neighborhood (Current)            acton            Acton   \n",
       "1  L.A. County Neighborhood (Current)  adams-normandie  Adams-Normandie   \n",
       "2  L.A. County Neighborhood (Current)     agoura-hills     Agoura Hills   \n",
       "3  L.A. County Neighborhood (Current)       agua-dulce       Agua Dulce   \n",
       "4  L.A. County Neighborhood (Current)         alhambra         Alhambra   \n",
       "\n",
       "                                             slug  \\\n",
       "0            acton-la-county-neighborhood-current   \n",
       "1  adams-normandie-la-county-neighborhood-current   \n",
       "2     agoura-hills-la-county-neighborhood-current   \n",
       "3       agua-dulce-la-county-neighborhood-current   \n",
       "4         alhambra-la-county-neighborhood-current   \n",
       "\n",
       "                                                 set  \\\n",
       "0  /1.0/boundary-set/la-county-neighborhoods-curr...   \n",
       "1  /1.0/boundary-set/la-county-neighborhoods-curr...   \n",
       "2  /1.0/boundary-set/la-county-neighborhoods-curr...   \n",
       "3  /1.0/boundary-set/la-county-neighborhoods-curr...   \n",
       "4  /1.0/boundary-set/la-county-neighborhoods-curr...   \n",
       "\n",
       "                                            metadata  \\\n",
       "0  {'sqmi': 39.3391089485, 'type': 'unincorporate...   \n",
       "1  {'sqmi': 0.805350187789, 'type': 'segment-of-a...   \n",
       "2  {'sqmi': 8.14676029818, 'type': 'standalone-ci...   \n",
       "3  {'sqmi': 31.4626319451, 'type': 'unincorporate...   \n",
       "4  {'sqmi': 7.62381430605, 'type': 'standalone-ci...   \n",
       "\n",
       "                                        resource_uri  \\\n",
       "0  /1.0/boundary/acton-la-county-neighborhood-cur...   \n",
       "1  /1.0/boundary/adams-normandie-la-county-neighb...   \n",
       "2  /1.0/boundary/agoura-hills-la-county-neighborh...   \n",
       "3  /1.0/boundary/agua-dulce-la-county-neighborhoo...   \n",
       "4  /1.0/boundary/alhambra-la-county-neighborhood-...   \n",
       "\n",
       "                                            geometry  \n",
       "0  MULTIPOLYGON (((-118.20262 34.53899, -118.1894...  \n",
       "1  MULTIPOLYGON (((-118.30901 34.03741, -118.3004...  \n",
       "2  MULTIPOLYGON (((-118.76193 34.16820, -118.7263...  \n",
       "3  MULTIPOLYGON (((-118.25468 34.55830, -118.2555...  \n",
       "4  MULTIPOLYGON (((-118.12175 34.10504, -118.1168...  "
      ]
     },
     "execution_count": 4,
     "metadata": {},
     "output_type": "execute_result"
    }
   ],
   "source": [
    "nbd.head()"
   ]
  },
  {
   "cell_type": "code",
   "execution_count": 5,
   "metadata": {},
   "outputs": [],
   "source": [
    "#Get boundary file to align with County Public Health nomenclature\n",
    "#Still more need to be understood and fixed\n",
    "nbd.to_csv(\"nocatalina.csv\", columns=['name'])\n",
    "nbd.replace({'Bel-Air': 'Bel Air', \n",
    "             'West Whittier-Los Nietos':'West Whittier/Los Nietos',\n",
    "             'Unincorporated Santa Monica Mountains':'Santa Monica Mountains',\n",
    "            'Mount Washington':'Mt. Washington',\n",
    "            'Lopez/Kagel Canyons':'Kagel/Lopez Canyons',\n",
    "            'View Park-Windsor Hills':'View Park/Windsor Hills',\n",
    "            'Lake View Terrace':'Lakeview Terrace',\n",
    "            'Playa del Rey':'Playa Del Rey', #should really be fixed in source\n",
    "            'Silver Lake': 'Silverlake',#should really be fixed in source\n",
    "            'Mid-City': 'Mid-city',#should really be fixed in source\n",
    "            'East San Gabriel': 'Northeast San Gabriel' #correct?\n",
    "#            'Unincorporated Catalina Island': 'Santa Catalina Island'\n",
    "            }, inplace=True)"
   ]
  },
  {
   "cell_type": "code",
   "execution_count": 6,
   "metadata": {},
   "outputs": [],
   "source": [
    "##GEO LABELING setup\n",
    "#Read in LA county regions - for use in labeling\n",
    "regs = gpd.read_file(\"data/la-county-regions-current.geojson\")\n",
    "#regs\n",
    "regsd = regs.drop([0, 5, 6, 7, 10,14]) #Keep only desired regions\n",
    "\n",
    "#Rename Central LA Hollywood to better match its centroid\n",
    "d = {'Central L.A.':'Hollywood'}\n",
    "regsd = regsd.replace(d)\n",
    "regsd\n",
    "\n",
    "#Store Long Beach centroid to use for plotting 'Harbor' data label - so that it's not in the ocean, due to Catalina\n",
    "nbd[nbd['name'].str.contains('Long Beach')].geometry.centroid\n",
    "longbeach = (-118.16071, 33.80522)"
   ]
  },
  {
   "cell_type": "code",
   "execution_count": 13,
   "metadata": {},
   "outputs": [],
   "source": [
    "def daily_map(mm, dd, usemax=0, labels=False, savename=False):\n",
    "    \n",
    "    month = str(mm).zfill(2)\n",
    "    day = str(dd).zfill(2)\n",
    "    strmonth = calendar.month_abbr[mm]\n",
    "\n",
    "    #Read in daily update\n",
    "    #Retrieved from http://publichealth.lacounty.gov/media/Coronavirus/locations.htm\n",
    "    dailyrepi = pd.read_csv('data/covid_'+month+day+'.csv')\n",
    "\n",
    "    #We will drop suppressed case counts\n",
    "    dailyrepi['count'] = dailyrepi['count'].apply(pd.to_numeric, errors='coerce')\n",
    "\n",
    "    dailyrep = dailyrepi[dailyrepi['count'].notna()]\n",
    "\n",
    "    #Find values of note: number under investigation, total\n",
    "    underinv = dailyrep[dailyrep['city'].str.contains('Under Investigation')]['count'].item()\n",
    "    nconfirmed = dailyrep[dailyrep['city'].str.contains('Total')]['count'].item()\n",
    "    \n",
    "    #Use a persistent scalebar across plots\n",
    "    if usemax:\n",
    "        vmax = usemax\n",
    "    else:\n",
    "        vmax = dailyrep[~dailyrep[\"city\"].str.contains(\"Under Investigation\") & ~dailyrep[\"city\"].str.contains(\"Total\") & ~dailyrep[\"city\"].str.contains(\"AGGREGATE\") ]['count'].max()\n",
    "        print('Normalizing to', vmax)#, '\\n For context:', ~dailyrep[\"count\"].str.contains(\"suppressed\").nlargest(5))\n",
    "        \n",
    "    #Add geographic information for neighborhoods\n",
    "    merged = nbd.set_index('name').join(dailyrep.set_index('city'))\n",
    "    \n",
    "\n",
    "\n",
    "    #Plot\n",
    "    fig, ax = plt.subplots(1,1, figsize=(10, 11))\n",
    "    nbd.plot(ax=ax, color='#eeeeee',edgecolor='white', linewidth=1)\n",
    "    divider = make_axes_locatable(ax)\n",
    "    cax1 = divider.append_axes(\"right\", size=\"5%\", pad=0.05) #cax1 = divider.append_axes(\"bottom\", size=\"5%\", pad=-3)\n",
    "    ax = merged.plot(column='count', vmin =0, vmax = vmax, cmap='Reds', ax=ax, cax=cax1, legend=True,edgecolor='white', linewidth=0.4)#legend_kwds={\"aspect\":\"10\"})#orientation\": \"horizontal\"})\n",
    "    \n",
    "    #Add labels for case counts\n",
    "    # merged.apply(lambda x: ax.annotate(x.count(), xy=x.geometry.centroid.coords[0], ha='center'),axis=1);    \n",
    "    for idx, row in merged.iterrows():\n",
    "        if not math.isnan(row['count']):\n",
    "            if (row.external_id=='long-beach'):\n",
    "                ha = 'left'\n",
    "                ax.annotate(s='  '+str(int(row['count'])), xy=row.geometry.centroid.coords[0], horizontalalignment=ha,color=color, fontsize=6, weight='bold')\n",
    "            else:\n",
    "                ha = 'center'\n",
    "                color='white'\n",
    "                ax.annotate(s=int(row['count']), xy=row.geometry.centroid.coords[0], horizontalalignment=ha, color=color, fontsize=6, weight='bold')\n",
    "\n",
    "    #Add labels for regions\n",
    "    # regsd.plot(facecolor='b',edgecolor='k', linewidth=1, ax=ax, alpha = 0.2) #Plot region boundaries\n",
    "    if labels:\n",
    "        for idx, row in regsd.iterrows():\n",
    "            if (idx==2):\n",
    "                fs = 8\n",
    "                ax.annotate(s=row['name'], xy=row.geometry.centroid.coords[0], horizontalalignment='center', color='#767676', fontsize=fs, alpha = 0.95, weight='bold')\n",
    "            elif (idx==4):\n",
    "                fs=11\n",
    "                ax.annotate(s=row['name'], xy=longbeach, horizontalalignment='right', verticalalignment='top', color='#767676', fontsize=fs, alpha = 0.95, weight='bold')\n",
    "            else:\n",
    "                fs = 11\n",
    "                ax.annotate(s=row['name'], xy=row.geometry.centroid.coords[0], horizontalalignment='center', color='#767676', fontsize=fs, alpha = 0.95, weight='bold')\n",
    "\n",
    "    #Adjust plot display\n",
    "    ax.set_ylim([33.7, 34.85])\n",
    "    ax.axis('off')\n",
    "    ax.set_title('Confirmed COVID-19 Cases in LA County', fontdict={'fontsize': '20', 'fontweight' : 'demibold'})\n",
    "    ax.annotate(strmonth+' '+str(dd),xy=(0.1, .2),  xycoords='figure fraction', horizontalalignment='left', verticalalignment='top', fontsize=20, color='k', weight='demibold')\n",
    "    ax.annotate('Total: '+str(int(nconfirmed)),xy=(0.1, .15),  xycoords='figure fraction', horizontalalignment='left', verticalalignment='top', fontsize=18, color='#555555', weight='demibold')\n",
    "    ax.annotate('Under investigation: '+str(int(underinv))+' (not shown)',xy=(0.1, .11),  xycoords='figure fraction', horizontalalignment='left', verticalalignment='top', fontsize=16, color='#555555')#, weight='demibold')\n",
    "    ax.annotate('Source: Los Angeles County Department of Public Health',xy=(0.1, .05),  xycoords='figure fraction', horizontalalignment='left', verticalalignment='top', fontsize=12, color='#666666')\n",
    "    if savename:\n",
    "        fout = 'maps/covid_la_'+month+day+savename+'.png' \n",
    "    else:\n",
    "        fout = 'maps/covid_la_'+month+day+'.png'\n",
    "    fig.savefig(fout)#, bbox_inches = 'tight')\n",
    "    fig.clf()\n",
    "    return vmax"
   ]
  },
  {
   "cell_type": "code",
   "execution_count": 14,
   "metadata": {
    "scrolled": false
   },
   "outputs": [
    {
     "name": "stdout",
     "output_type": "stream",
     "text": [
      "MO 4 DA 11\n",
      "Normalizing to 316.0\n",
      "Normalizing to 316.0\n",
      "MO 4 DA 10\n",
      "MO 4 DA 9\n",
      "MO 4 DA 8\n",
      "MO 4 DA 7\n",
      "MO 4 DA 6\n",
      "MO 4 DA 5\n",
      "MO 4 DA 4\n",
      "MO 4 DA 3\n",
      "MO 4 DA 2\n",
      "MO 4 DA 1\n",
      "MO 3 DA 31\n",
      "MO 3 DA 30\n",
      "MO 3 DA 29\n",
      "MO 3 DA 28\n",
      "MO 3 DA 27\n",
      "MO 3 DA 26\n",
      "MO 3 DA 25\n",
      "MO 3 DA 24\n",
      "MO 3 DA 23\n"
     ]
    },
    {
     "name": "stderr",
     "output_type": "stream",
     "text": [
      "<ipython-input-13-0951a80d9f15>:33: RuntimeWarning: More than 20 figures have been opened. Figures created through the pyplot interface (`matplotlib.pyplot.figure`) are retained until explicitly closed and may consume too much memory. (To control this warning, see the rcParam `figure.max_open_warning`).\n",
      "  fig, ax = plt.subplots(1,1, figsize=(10, 11))\n"
     ]
    },
    {
     "name": "stdout",
     "output_type": "stream",
     "text": [
      "MO 3 DA 20\n"
     ]
    },
    {
     "name": "stderr",
     "output_type": "stream",
     "text": [
      "<ipython-input-13-0951a80d9f15>:33: RuntimeWarning: More than 20 figures have been opened. Figures created through the pyplot interface (`matplotlib.pyplot.figure`) are retained until explicitly closed and may consume too much memory. (To control this warning, see the rcParam `figure.max_open_warning`).\n",
      "  fig, ax = plt.subplots(1,1, figsize=(10, 11))\n",
      "<ipython-input-13-0951a80d9f15>:33: RuntimeWarning: More than 20 figures have been opened. Figures created through the pyplot interface (`matplotlib.pyplot.figure`) are retained until explicitly closed and may consume too much memory. (To control this warning, see the rcParam `figure.max_open_warning`).\n",
      "  fig, ax = plt.subplots(1,1, figsize=(10, 11))\n"
     ]
    },
    {
     "data": {
      "text/plain": [
       "<Figure size 720x792 with 0 Axes>"
      ]
     },
     "metadata": {},
     "output_type": "display_data"
    },
    {
     "data": {
      "text/plain": [
       "<Figure size 720x792 with 0 Axes>"
      ]
     },
     "metadata": {},
     "output_type": "display_data"
    },
    {
     "data": {
      "text/plain": [
       "<Figure size 720x792 with 0 Axes>"
      ]
     },
     "metadata": {},
     "output_type": "display_data"
    },
    {
     "data": {
      "text/plain": [
       "<Figure size 720x792 with 0 Axes>"
      ]
     },
     "metadata": {},
     "output_type": "display_data"
    },
    {
     "data": {
      "text/plain": [
       "<Figure size 720x792 with 0 Axes>"
      ]
     },
     "metadata": {},
     "output_type": "display_data"
    },
    {
     "data": {
      "text/plain": [
       "<Figure size 720x792 with 0 Axes>"
      ]
     },
     "metadata": {},
     "output_type": "display_data"
    },
    {
     "data": {
      "text/plain": [
       "<Figure size 720x792 with 0 Axes>"
      ]
     },
     "metadata": {},
     "output_type": "display_data"
    },
    {
     "data": {
      "text/plain": [
       "<Figure size 720x792 with 0 Axes>"
      ]
     },
     "metadata": {},
     "output_type": "display_data"
    },
    {
     "data": {
      "text/plain": [
       "<Figure size 720x792 with 0 Axes>"
      ]
     },
     "metadata": {},
     "output_type": "display_data"
    },
    {
     "data": {
      "text/plain": [
       "<Figure size 720x792 with 0 Axes>"
      ]
     },
     "metadata": {},
     "output_type": "display_data"
    },
    {
     "data": {
      "text/plain": [
       "<Figure size 720x792 with 0 Axes>"
      ]
     },
     "metadata": {},
     "output_type": "display_data"
    },
    {
     "data": {
      "text/plain": [
       "<Figure size 720x792 with 0 Axes>"
      ]
     },
     "metadata": {},
     "output_type": "display_data"
    },
    {
     "data": {
      "text/plain": [
       "<Figure size 720x792 with 0 Axes>"
      ]
     },
     "metadata": {},
     "output_type": "display_data"
    },
    {
     "data": {
      "text/plain": [
       "<Figure size 720x792 with 0 Axes>"
      ]
     },
     "metadata": {},
     "output_type": "display_data"
    },
    {
     "data": {
      "text/plain": [
       "<Figure size 720x792 with 0 Axes>"
      ]
     },
     "metadata": {},
     "output_type": "display_data"
    },
    {
     "data": {
      "text/plain": [
       "<Figure size 720x792 with 0 Axes>"
      ]
     },
     "metadata": {},
     "output_type": "display_data"
    },
    {
     "data": {
      "text/plain": [
       "<Figure size 720x792 with 0 Axes>"
      ]
     },
     "metadata": {},
     "output_type": "display_data"
    },
    {
     "data": {
      "text/plain": [
       "<Figure size 720x792 with 0 Axes>"
      ]
     },
     "metadata": {},
     "output_type": "display_data"
    },
    {
     "data": {
      "text/plain": [
       "<Figure size 720x792 with 0 Axes>"
      ]
     },
     "metadata": {},
     "output_type": "display_data"
    },
    {
     "data": {
      "text/plain": [
       "<Figure size 720x792 with 0 Axes>"
      ]
     },
     "metadata": {},
     "output_type": "display_data"
    },
    {
     "data": {
      "text/plain": [
       "<Figure size 720x792 with 0 Axes>"
      ]
     },
     "metadata": {},
     "output_type": "display_data"
    },
    {
     "data": {
      "text/plain": [
       "<Figure size 720x792 with 0 Axes>"
      ]
     },
     "metadata": {},
     "output_type": "display_data"
    },
    {
     "data": {
      "text/plain": [
       "<Figure size 720x792 with 0 Axes>"
      ]
     },
     "metadata": {},
     "output_type": "display_data"
    }
   ],
   "source": [
    "#Create plots for the specified days\n",
    "#month = 3\n",
    "#days = [20,23, 24, 25,26, 27,28, 29, 30,31]\n",
    "dates = [320, 323, 324, 325, 326, 327,328, 329, 330, 331, 401, 402, 403, 404, 405, 406, 407, 408, 409, 410, 411] #331, \n",
    "\n",
    "import pdb\n",
    "\n",
    "vmax = 0\n",
    "for idx,date in enumerate(reversed(dates)):\n",
    "    month = int(date/100)\n",
    "    day = date-month*100\n",
    "    print('MO', month, 'DA', day)\n",
    "    if (idx==0):\n",
    "        vmax = daily_map(month,day, usemax=False, savename='_0',labels=False)\n",
    "        vmax = daily_map(month,day, usemax=False, savename='_1', labels=True)\n",
    "    else:\n",
    "        if (idx==len(dates)-1):\n",
    "            daily_map(month,day, usemax=vmax, savename='_1', labels=False)\n",
    "            daily_map(month,day, usemax=vmax, savename='_0', labels=True)\n",
    "        else:\n",
    "            daily_map(month,day, usemax=vmax)"
   ]
  },
  {
   "cell_type": "markdown",
   "metadata": {},
   "source": [
    "To create an animated gif, use imagemagick locally.  Currently using:\n",
    "\n",
    "convert -delay 90 -loop 0 *png covid_la.gif\n"
   ]
  },
  {
   "cell_type": "code",
   "execution_count": null,
   "metadata": {},
   "outputs": [],
   "source": [
    "#Write out files\n",
    "import glob\n",
    "import os\n",
    "\n",
    "#path = 'data'\n",
    "#all_files = glob.glob(path + \"/*.csv\")\n",
    "\n",
    "df = pd.read_csv('data/covid_0320.csv').set_index('city')\n",
    "\n",
    "df = df.fillna('null').rename(columns={'count': '03/20/2020'})"
   ]
  },
  {
   "cell_type": "code",
   "execution_count": null,
   "metadata": {
    "scrolled": true
   },
   "outputs": [],
   "source": [
    "\n",
    "dates = [323, 324, 325, 326, 327,328, 329, 330, 331, 401, 402, 403, 404, 405, 406, 407, 408, 409, 410, 411] #331, \n",
    "for idx, date in enumerate(dates):\n",
    "    strdate = str(date).zfill(4)\n",
    "    month = int(date/100)\n",
    "    day = str(date-month*100)\n",
    "    filename = 'data/covid_'+strdate+'.csv'\n",
    "    if (filename == 'data/covid_0322_s.csv'):\n",
    "        continue\n",
    "    print('Working on ',filename)\n",
    "    \n",
    "    df0 = pd.read_csv(filename).set_index('city') \n",
    "\n",
    "    df0 = df0.rename(columns={'count' : str(month)+'/'+day+'/2020'})\n",
    "    df0 = df0.rename(columns={'rate' : 'Rate'+str(month)+'/'+day+'/2020'})\n",
    "#    df0=df0.loc[df0.index.drop_duplicates()]\n",
    "    df = pd.concat([df, df0], join='outer', axis=1)\n",
    "    print(df.head())\n",
    "\n",
    "print('Once')\n",
    "#Check totals\n",
    "print(df[df.index.isin(['Total'])])\n",
    "print('Twice')\n",
    "#Write out file"
   ]
  },
  {
   "cell_type": "code",
   "execution_count": null,
   "metadata": {
    "scrolled": true
   },
   "outputs": [],
   "source": [
    "#Write out files for Flourish plots\n",
    "\n",
    "df.drop(['Total', 'Los Angeles - AGGREGATE']).to_csv(\n",
    "#df[~df[\"index\"].str.contains(\"Under Investigation\") & ~df[\"index\"].str.contains(\"Total\") & ~df[\"index\"].str.contains(\"AGGREGATE\")].to_csv(\n",
    "    \"./data/combined_reports_\"+strdate+\"_nototal.csv\",\n",
    "    index=True,\n",
    "    encoding=\"utf-8\"\n",
    ")\n",
    "\n",
    "\n",
    "\n",
    "#df.fillna(0).T.to_csv(\n",
    "#    \"./data/combined_reports_\"+strdate+\".csv\",\n",
    "#    index=True,\n",
    "#    encoding=\"utf-8\"\n",
    "#)\n",
    "\n",
    "\n",
    "mymerged = nbd.set_index('name').join(df)\n",
    "mymerged.to_file(\n",
    "    \"./data/combined_reports_regs_\"+strdate+\".json\",\n",
    "    index=True, driver=\"GeoJSON\"\n",
    ")"
   ]
  },
  {
   "cell_type": "code",
   "execution_count": null,
   "metadata": {},
   "outputs": [],
   "source": [
    "#Check merged output\n",
    "pd.set_option('display.max_rows', None)\n",
    "mymerged"
   ]
  },
  {
   "cell_type": "code",
   "execution_count": null,
   "metadata": {},
   "outputs": [],
   "source": [
    "#Separate test\n",
    "df = pd.read_csv('data/covid_0330.csv')\n",
    "merged = nbd.merge(df, left_on=\"name\", right_on=\"city\", indicator=True)\n",
    "nbd.set_index('name')\n",
    "df.set_index('city')\n",
    "#df['city'].equals(nbd['name'])\n",
    "pd.concat([nbd, df]).drop_duplicates(keep=False)"
   ]
  },
  {
   "cell_type": "code",
   "execution_count": null,
   "metadata": {},
   "outputs": [],
   "source": [
    "#Test out plotting a barchart\n",
    "fig, ax = plt.subplots(1,1, figsize=(12, 20))\n",
    "df = pd.read_csv('data/covid_0324.csv')\n",
    "df.set_index('city', inplace=True, drop=True)\n",
    "df.drop(['Under Investigation']).sort_values(by=['count'],ascending=1).plot(kind='barh', ax=ax, legend=False)\n",
    "df['count'].max()"
   ]
  }
 ],
 "metadata": {
  "kernelspec": {
   "display_name": "Python [conda env:geo_env] *",
   "language": "python",
   "name": "conda-env-geo_env-py"
  },
  "language_info": {
   "codemirror_mode": {
    "name": "ipython",
    "version": 3
   },
   "file_extension": ".py",
   "mimetype": "text/x-python",
   "name": "python",
   "nbconvert_exporter": "python",
   "pygments_lexer": "ipython3",
   "version": "3.8.2"
  }
 },
 "nbformat": 4,
 "nbformat_minor": 4
}
